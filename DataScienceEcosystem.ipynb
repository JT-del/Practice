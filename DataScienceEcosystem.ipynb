{
 "cells": [
  {
   "cell_type": "markdown",
   "id": "937adcf6-6e89-4bb3-bd19-00c508a73c51",
   "metadata": {},
   "source": [
    "# Data Science Tools and Ecosystem"
   ]
  },
  {
   "cell_type": "markdown",
   "id": "cc1ec6e7-2e2c-4fda-9c5b-80dcfccaa2c8",
   "metadata": {},
   "source": [
    "In this notebook, Data Science Tools and Ecosystem are summarized."
   ]
  },
  {
   "cell_type": "markdown",
   "id": "f77b58dc-2b0c-4960-9b5a-7494abc584fd",
   "metadata": {},
   "source": [
    "Objectives:\n",
    "\n",
    "- List Poplular Languages\n",
    "- List Commonly used Libraries\n",
    "- List Data Science Tools"
   ]
  },
  {
   "cell_type": "markdown",
   "id": "882f2365-4ba5-4f0a-a9c9-2a912e883b01",
   "metadata": {},
   "source": [
    "Some of the popular languages that Data Scientists use are:\n",
    "\n",
    "1. Python\n",
    "2. R\n",
    "3. Julia"
   ]
  },
  {
   "cell_type": "markdown",
   "id": "c0a1587a-a959-41c3-a7bb-ba1f5f4756c8",
   "metadata": {
    "tags": []
   },
   "source": [
    "Some of the commonly used libraries used by Data Scientists include:\n",
    "\n",
    "1. Pandas\n",
    "2. Matplotlib\n",
    "3. NumPy\n"
   ]
  },
  {
   "cell_type": "markdown",
   "id": "c9108752-ad72-4124-a99b-f6b70fd9147b",
   "metadata": {},
   "source": [
    "|Data Science Tools|\n",
    "|------------------|\n",
    "|Jupyter Labs|\n",
    "|R Studios IDE|\n",
    "|Git Hub|"
   ]
  },
  {
   "cell_type": "markdown",
   "id": "e351f5c3-9d86-4e2c-8cc6-983e9721eedd",
   "metadata": {},
   "source": [
    "### Below are a few examples of evaluating arithmetic expressions in Python\n",
    "\n",
    "- Addition:          4 + 5\n",
    "- Subtraction:       6 - 1\n",
    "- Multiplication:    4 * 5\n",
    "- Division:          10 / 2"
   ]
  },
  {
   "cell_type": "code",
   "execution_count": 2,
   "id": "7adb3332-697e-42fd-9300-a45cca95a864",
   "metadata": {
    "tags": []
   },
   "outputs": [
    {
     "data": {
      "text/plain": [
       "17"
      ]
     },
     "execution_count": 2,
     "metadata": {},
     "output_type": "execute_result"
    }
   ],
   "source": [
    "#This is a simple arithmetic expression to multiply then add integers\n",
    "\n",
    "(3*4)+5"
   ]
  },
  {
   "cell_type": "code",
   "execution_count": 3,
   "id": "a980d514-0366-46b3-8a8f-07459efb14b5",
   "metadata": {},
   "outputs": [
    {
     "name": "stdout",
     "output_type": "stream",
     "text": [
      "200 minutes is equivalent to 3 hours and 20 minutes.\n"
     ]
    }
   ],
   "source": [
    "#This will convert 200 minutes to hours by dividing by 60\n",
    "\n",
    "hours = 200//60\n",
    "minutes = 200%60\n",
    "\n",
    "print(f'200 minutes is equivalent to {hours} hours and {minutes} minutes.')"
   ]
  },
  {
   "cell_type": "markdown",
   "id": "2e82f29e-882a-487f-a662-b229446f7855",
   "metadata": {},
   "source": [
    "## Author\n",
    "James T."
   ]
  },
  {
   "cell_type": "code",
   "execution_count": null,
   "id": "fd98731f-ecc7-40ea-9c9e-6f5b70eb265e",
   "metadata": {},
   "outputs": [],
   "source": []
  }
 ],
 "metadata": {
  "kernelspec": {
   "display_name": "Python",
   "language": "python",
   "name": "conda-env-python-py"
  },
  "language_info": {
   "codemirror_mode": {
    "name": "ipython",
    "version": 3
   },
   "file_extension": ".py",
   "mimetype": "text/x-python",
   "name": "python",
   "nbconvert_exporter": "python",
   "pygments_lexer": "ipython3",
   "version": "3.7.12"
  }
 },
 "nbformat": 4,
 "nbformat_minor": 5
}
